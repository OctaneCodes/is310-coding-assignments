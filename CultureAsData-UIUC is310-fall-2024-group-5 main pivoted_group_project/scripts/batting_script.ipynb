{
 "cells": [
  {
   "cell_type": "code",
   "execution_count": 1,
   "metadata": {},
   "outputs": [],
   "source": [
    "import pandas as pd\n",
    "import re"
   ]
  },
  {
   "cell_type": "code",
   "execution_count": 2,
   "metadata": {},
   "outputs": [],
   "source": [
    "import pandas as pd\n",
    "import numpy as np\n",
    "\n",
    "def parse_baseball_data(file_path):\n",
    "    # Define the standard columns\n",
    "    all_columns = [\n",
    "        \"Year\", \"League\", \"Tm\", \"#Bat\", \"BatAge\", \"R/G\", \"G\", \"PA\", \"AB\", \"R\", \"H\", \"2B\", \"3B\", \"HR\", \"RBI\", \n",
    "        \"SB\", \"CS\", \"BB\", \"SO\", \"BA\", \"OBP\", \"SLG\", \"OPS\", \"OPS+\", \"TB\", \"GDP\", \"HBP\", \"SH\", \"SF\", \"IBB\", \"LOB\"\n",
    "    ]\n",
    "    \n",
    "    # Read the file and split by double line breaks\n",
    "    with open(file_path, 'r') as f:\n",
    "        data = f.read()\n",
    "    sections = data.strip().split(\"\\n\\n\")  # Split by double line breaks\n",
    "    \n",
    "    parsed_data = []\n",
    "    \n",
    "    for section_index, section in enumerate(sections):\n",
    "        lines = section.strip().split(\"\\n\")\n",
    "        if len(lines) < 3:\n",
    "            print(f\"Skipping section {section_index + 1} (too few lines)\")\n",
    "            continue  # Skip sections without enough lines\n",
    "        \n",
    "        # Extract year and league from the first line\n",
    "        header_line = lines[0].strip()\n",
    "        try:\n",
    "            year, league = header_line.split(maxsplit=1)\n",
    "        except ValueError:\n",
    "            raise ValueError(\n",
    "                f\"Malformed header line in section {section_index + 1}: '{header_line}'.\\n\"\n",
    "                f\"Content of section {section_index + 1}:\\n{section}\"\n",
    "            )\n",
    "        \n",
    "        # Extract column headers from the second line\n",
    "        column_headers = lines[1].strip().split(\",\")\n",
    "        \n",
    "        # Parse data rows\n",
    "        data_rows = lines[2:]\n",
    "        for row in data_rows:\n",
    "            row_values = row.strip().split(\",\")\n",
    "            row_dict = dict(zip(column_headers, row_values))\n",
    "            row_dict[\"Year\"] = year\n",
    "            row_dict[\"League\"] = league\n",
    "            \n",
    "            # Fill missing columns\n",
    "            for col in all_columns:\n",
    "                if col not in row_dict:\n",
    "                    row_dict[col] = np.nan\n",
    "            \n",
    "            parsed_data.append(row_dict)\n",
    "    \n",
    "    # Create the DataFrame\n",
    "    final_df = pd.DataFrame(parsed_data, columns=all_columns)\n",
    "    return final_df\n"
   ]
  },
  {
   "cell_type": "code",
   "execution_count": 3,
   "metadata": {},
   "outputs": [
    {
     "name": "stdout",
     "output_type": "stream",
     "text": [
      "   Year League                       Tm #Bat BatAge   R/G   G    PA    AB  \\\n",
      "0  1930    NNL  Birmingham Black Barons   30   23.9  4.81  74  2563  2400   \n",
      "1  1930    NNL  Chicago American Giants   34   28.8  4.35  81  2862  2618   \n",
      "2  1930    NNL         Cuban Stars West   14   23.9  4.38  48  1731  1575   \n",
      "3  1930    NNL            Detroit Stars   19   27.4  5.18  72  2557  2364   \n",
      "4  1930    NNL     Kansas City Monarchs   18   28.2  5.78  67  2524  2285   \n",
      "\n",
      "     R  ...   SLG   OPS OPS+   TB GDP HBP SH SF IBB LOB  \n",
      "0  356  ...  .400  .730   97  961       0                \n",
      "1  352  ...  .343  .671   82  898       3                \n",
      "2  210  ...  .331  .636   72  522       4                \n",
      "3  373  ...  .394  .720   94  932       0                \n",
      "4  387  ...  .398  .748  102  909       4                \n",
      "\n",
      "[5 rows x 31 columns]\n"
     ]
    }
   ],
   "source": [
    "# Path to the data file\n",
    "file_path = '../raw_data/MLB_Batting.txt'\n",
    "\n",
    "# Parse the data\n",
    "df = parse_baseball_data(file_path)\n",
    "\n",
    "# Display the resulting DataFrame\n",
    "print(df.head())\n",
    "\n",
    "# Save to a CSV file (optional)\n",
    "df.to_csv(\"../combined_data/batting_combined.csv\", index=False)"
   ]
  },
  {
   "cell_type": "code",
   "execution_count": null,
   "metadata": {},
   "outputs": [],
   "source": []
  }
 ],
 "metadata": {
  "kernelspec": {
   "display_name": ".venv",
   "language": "python",
   "name": "python3"
  },
  "language_info": {
   "codemirror_mode": {
    "name": "ipython",
    "version": 3
   },
   "file_extension": ".py",
   "mimetype": "text/x-python",
   "name": "python",
   "nbconvert_exporter": "python",
   "pygments_lexer": "ipython3",
   "version": "3.9.6"
  }
 },
 "nbformat": 4,
 "nbformat_minor": 2
}
