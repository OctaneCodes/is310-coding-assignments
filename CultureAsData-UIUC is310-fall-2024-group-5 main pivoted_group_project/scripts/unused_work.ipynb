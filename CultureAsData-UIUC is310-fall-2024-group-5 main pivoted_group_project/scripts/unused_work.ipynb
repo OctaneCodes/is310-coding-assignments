{
 "cells": [
  {
   "cell_type": "code",
   "execution_count": 5,
   "metadata": {},
   "outputs": [],
   "source": [
    "import os\n",
    "import pandas as pd\n",
    "import re\n",
    "\n",
    "def extract_year_league(filename):\n",
    "    match = re.search(r'(\\d{4})_(\\w+)', filename)\n",
    "    if match:\n",
    "        return match.groups()\n",
    "    return None, None\n",
    "\n",
    "def process_csv(file_path, year, league):\n",
    "    df = pd.read_csv(file_path)\n",
    "    df.insert(0, 'Year League', f'{year} {league}')\n",
    "    return df\n",
    "\n",
    "def combine_csv_files(input_folder, output_file):\n",
    "    combined_df = pd.DataFrame()\n",
    "    \n",
    "    for filename in os.listdir(input_folder):\n",
    "        if filename.endswith('.csv'):\n",
    "            file_path = os.path.join(input_folder, filename)\n",
    "            year, league = extract_year_league(filename)\n",
    "            if year and league:\n",
    "                df = process_csv(file_path, year, league)\n",
    "                combined_df = pd.concat([combined_df, df], ignore_index=True)\n",
    "    \n",
    "    combined_df.to_csv(output_file, index=False)\n",
    "\n",
    "def main():\n",
    "    input_folder = 'results'\n",
    "    output_file = 'combined_results.csv'\n",
    "    \n",
    "    # Combine all CSV files\n",
    "    combine_csv_files(input_folder, output_file)\n",
    "\n",
    "if __name__ == \"__main__\":\n",
    "    main()"
   ]
  }
 ],
 "metadata": {
  "kernelspec": {
   "display_name": "base",
   "language": "python",
   "name": "python3"
  },
  "language_info": {
   "codemirror_mode": {
    "name": "ipython",
    "version": 3
   },
   "file_extension": ".py",
   "mimetype": "text/x-python",
   "name": "python",
   "nbconvert_exporter": "python",
   "pygments_lexer": "ipython3",
   "version": "3.12.2"
  }
 },
 "nbformat": 4,
 "nbformat_minor": 2
}
